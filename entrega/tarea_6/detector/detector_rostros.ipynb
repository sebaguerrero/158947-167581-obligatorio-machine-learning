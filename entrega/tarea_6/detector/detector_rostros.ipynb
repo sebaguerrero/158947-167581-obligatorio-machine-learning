{
  "cells": [
    {
      "cell_type": "markdown",
      "metadata": {
        "id": "M_CqRlRNJTKn"
      },
      "source": [
        "# Imports"
      ]
    },
    {
      "cell_type": "code",
      "execution_count": null,
      "metadata": {
        "id": "xsPcf7iuJTKn"
      },
      "outputs": [],
      "source": [
        "import joblib\n",
        "import os\n",
        "from skimage import data, color\n",
        "from skimage.transform import resize\n",
        "import numpy as np\n",
        "import importlib\n",
        "import warnings\n",
        "warnings.filterwarnings('ignore')"
      ]
    },
    {
      "cell_type": "code",
      "execution_count": null,
      "metadata": {
        "colab": {
          "base_uri": "https://localhost:8080/"
        },
        "id": "QZZaAET_BUU3",
        "outputId": "4556637c-3859-425b-e750-098ae27f79df"
      },
      "outputs": [],
      "source": [
        "#from google.colab import drive\n",
        "#drive.mount('/content/drive')\n",
        "#import sys\n",
        "#sys.path.append('/content/drive/MyDrive/machine-learning/obligatorio/detector')"
      ]
    },
    {
      "cell_type": "code",
      "execution_count": null,
      "metadata": {},
      "outputs": [],
      "source": [
        "import utils\n",
        "importlib.reload(utils)\n",
        "from utils import (\n",
        "    browse_images,\n",
        "    load_multiple_images,\n",
        "    show_images,\n",
        "    global_multiscale_detection,\n",
        "    show_image_with_rectangle,\n",
        "    compare_image_sets\n",
        ")\n",
        "\n",
        "#BASE_PATH = '/content/drive/MyDrive/machine-learning/obligatorio/detector'\n",
        "BASE_PATH = ''\n",
        "\n",
        "BATCH_SIZE = 1024\n",
        "MAX_JOBS = 4\n",
        "    \n",
        "MODEL_NAME = 'model_x12_v1_150'\n",
        "SCALER_NAME = 'scaler_x12_v1_150'\n",
        "PCA_NAME = 'pca_x12_v1_150'"
      ]
    },
    {
      "cell_type": "markdown",
      "metadata": {
        "id": "vhWPAI7fJTKo"
      },
      "source": [
        "# Clasificador"
      ]
    },
    {
      "cell_type": "code",
      "execution_count": null,
      "metadata": {
        "id": "fXjektZWJTKp"
      },
      "outputs": [],
      "source": [
        "# Cargar modelo entrenado\n",
        "clf = joblib.load(os.path.join(BASE_PATH, f'models/{MODEL_NAME}.joblib'))\n",
        "\n",
        "# Cargar standard scaler\n",
        "scaler = joblib.load(os.path.join(BASE_PATH, f'models/{SCALER_NAME}.joblib'))\n",
        "\n",
        "# Cargar pca\n",
        "pca = joblib.load(os.path.join(BASE_PATH, f'models/{PCA_NAME}.joblib'))"
      ]
    },
    {
      "cell_type": "markdown",
      "metadata": {
        "id": "dc_RFh_eJTKr"
      },
      "source": [
        "# Cargar Imagenes"
      ]
    },
    {
      "cell_type": "markdown",
      "metadata": {},
      "source": [
        "## Agregar imágenes del directorio 'test_images'"
      ]
    },
    {
      "cell_type": "code",
      "execution_count": null,
      "metadata": {
        "colab": {
          "base_uri": "https://localhost:8080/",
          "height": 806
        },
        "id": "J8nQ5310geZ0",
        "outputId": "f56ff264-49bf-4fd2-ee39-8e0bedc6a9eb"
      },
      "outputs": [],
      "source": [
        "print(\"Explorando imágenes en test_images...\")\n",
        "available_images = browse_images(BASE_PATH)"
      ]
    },
    {
      "cell_type": "code",
      "execution_count": null,
      "metadata": {},
      "outputs": [],
      "source": [
        "images_with_true_faces = load_multiple_images(os.path.join(BASE_PATH,\"test_images\"), available_images)"
      ]
    },
    {
      "cell_type": "markdown",
      "metadata": {},
      "source": [
        "## Agregar astronauta"
      ]
    },
    {
      "cell_type": "code",
      "execution_count": null,
      "metadata": {
        "colab": {
          "base_uri": "https://localhost:8080/"
        },
        "id": "thZ07YCwjoRB",
        "outputId": "091acb70-4f92-45dd-fded-62c1425e0beb"
      },
      "outputs": [],
      "source": [
        "astronaut = data.astronaut()\n",
        "astronaut = color.rgb2gray(astronaut)\n",
        "astronaut = resize(astronaut, (500, 500), anti_aliasing=True, preserve_range=True)\n",
        "astronaut = (astronaut * 255).astype(np.uint8)\n",
        "images_with_true_faces.append(('1-astronaut', astronaut, 1))"
      ]
    },
    {
      "cell_type": "code",
      "execution_count": null,
      "metadata": {},
      "outputs": [],
      "source": [
        "show_images([item[1] for item in images_with_true_faces], max_per_row=4)"
      ]
    },
    {
      "cell_type": "code",
      "execution_count": null,
      "metadata": {
        "colab": {
          "base_uri": "https://localhost:8080/"
        },
        "id": "z8MSa_J1j2UQ",
        "outputId": "00982d82-7f54-467a-f6b1-d98bb261a6ed"
      },
      "outputs": [],
      "source": [
        "# # Verificar\n",
        "# for item in images_with_true_faces:\n",
        "#     img = item[1]\n",
        "#     print(f\"{item[0]}\")\n",
        "#     print(f\"  {img.shape}, Tipo: {img.dtype}, Rango: {img.min()} - {img.max()}, Rostros: {item[2]}\")"
      ]
    },
    {
      "cell_type": "code",
      "execution_count": null,
      "metadata": {},
      "outputs": [],
      "source": [
        "filename_list = [item[0] for item in images_with_true_faces]\n",
        "image_list = [item[1] for item in images_with_true_faces]\n",
        "true_faces_list = [item[2] for item in images_with_true_faces]"
      ]
    },
    {
      "cell_type": "markdown",
      "metadata": {},
      "source": [
        "# Correr detector"
      ]
    },
    {
      "cell_type": "markdown",
      "metadata": {},
      "source": [
        "## Params"
      ]
    },
    {
      "cell_type": "code",
      "execution_count": null,
      "metadata": {},
      "outputs": [],
      "source": [
        "test_scales = np.arange(0.5, 5.0, 0.5)\n",
        "\n",
        "threshold = 0.9\n",
        "overlap_thresh = 0.05\n",
        "step = 4\n",
        "\n",
        "hog_params = {\n",
        "    # \"orientations\": 9,\n",
        "    # \"pixels_per_cell\": (8, 8),\n",
        "    # \"cells_per_block\": (2, 2),\n",
        "    # \"block_norm\": \"L2-Hys\",\n",
        "    # \"visualize\": False,\n",
        "    # \"transform_sqrt\": True,\n",
        "    \"feature_vector\": True\n",
        "}"
      ]
    },
    {
      "cell_type": "markdown",
      "metadata": {},
      "source": [
        "## Detector sobre 1 imágen"
      ]
    },
    {
      "cell_type": "markdown",
      "metadata": {},
      "source": [
        "### Mostrar imágen con rectángulo para estimar tamaño del scale"
      ]
    },
    {
      "cell_type": "code",
      "execution_count": null,
      "metadata": {},
      "outputs": [],
      "source": [
        "# Elegir la imagen a procesar\n",
        "image_index = 1\n",
        "# Estimar un true scale\n",
        "true_scale = 3.5\n",
        "# Mostrar imagen con rectángulo para estimar tamaño del scale\n",
        "show_image_with_rectangle(image_list[image_index], true_scale)"
      ]
    },
    {
      "cell_type": "code",
      "execution_count": null,
      "metadata": {},
      "outputs": [],
      "source": [
        "global_multiscale_detection(\n",
        "    image_list[image_index],\n",
        "    clf,\n",
        "    scaler,\n",
        "    pca,\n",
        "    test_scales=[true_scale],\n",
        "    threshold=threshold,\n",
        "    overlap_thresh=overlap_thresh,\n",
        "    batch_size=BATCH_SIZE,\n",
        "    max_jobs=MAX_JOBS,\n",
        "    hog_params=hog_params,\n",
        "    plot=True,\n",
        "    save_result=False,\n",
        "    result_dir=f\"detections/{MODEL_NAME}\",\n",
        "    filename=filename_list[image_index]\n",
        ")"
      ]
    },
    {
      "cell_type": "markdown",
      "metadata": {},
      "source": [
        "### Multiscale detection"
      ]
    },
    {
      "cell_type": "code",
      "execution_count": null,
      "metadata": {},
      "outputs": [],
      "source": [
        "global_multiscale_detection(\n",
        "    image_list[image_index],\n",
        "    clf,\n",
        "    scaler,\n",
        "    pca,\n",
        "    test_scales=test_scales,\n",
        "    threshold=threshold,\n",
        "    overlap_thresh=overlap_thresh,\n",
        "    batch_size=BATCH_SIZE,\n",
        "    max_jobs=MAX_JOBS,\n",
        "    hog_params=hog_params,\n",
        "    plot=True,\n",
        "    save_result=False,\n",
        "    result_dir=f\"detections/{MODEL_NAME}\",\n",
        "    filename=filename_list[image_index]\n",
        ")"
      ]
    },
    {
      "cell_type": "markdown",
      "metadata": {},
      "source": [
        "## Detector sobre todo el dataset"
      ]
    },
    {
      "cell_type": "code",
      "execution_count": null,
      "metadata": {},
      "outputs": [],
      "source": [
        "# For each image, perform multiscale detection\n",
        "for image_index, (filename, img, num_faces) in enumerate(images_with_true_faces):\n",
        "    global_multiscale_detection(\n",
        "        img,\n",
        "        clf,\n",
        "        scaler,\n",
        "        pca,\n",
        "        test_scales=test_scales,\n",
        "        threshold=threshold,\n",
        "        overlap_thresh=overlap_thresh,\n",
        "        step=step,\n",
        "        batch_size=BATCH_SIZE,\n",
        "        max_jobs=MAX_JOBS,\n",
        "        hog_params=hog_params,\n",
        "        plot=False,\n",
        "        save_result=True,\n",
        "        result_dir=f\"detections/{MODEL_NAME}\",\n",
        "        filename=filename\n",
        "    )\n",
        "print(f\"Detección de rostros completada. Resultados guardados en 'detections/{MODEL_NAME}'.\")"
      ]
    },
    {
      "cell_type": "code",
      "execution_count": null,
      "metadata": {},
      "outputs": [],
      "source": [
        "dir_A = \"detections/model_x2_v2_50_2step\"           \n",
        "dir_B = \"detections/model_x12_v1_150_4step\"\n",
        "dir_C = \"detections/model_x24_v1_150_4step\"\n",
        "compare_image_sets(dir_A, dir_B, dir_C)"
      ]
    }
  ],
  "metadata": {
    "colab": {
      "machine_shape": "hm",
      "provenance": []
    },
    "kernelspec": {
      "display_name": "ml-stable",
      "language": "python",
      "name": "python3"
    },
    "language_info": {
      "codemirror_mode": {
        "name": "ipython",
        "version": 3
      },
      "file_extension": ".py",
      "mimetype": "text/x-python",
      "name": "python",
      "nbconvert_exporter": "python",
      "pygments_lexer": "ipython3",
      "version": "3.11.11"
    }
  },
  "nbformat": 4,
  "nbformat_minor": 0
}
