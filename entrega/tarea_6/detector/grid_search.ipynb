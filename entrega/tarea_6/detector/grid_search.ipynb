{
  "cells": [
    {
      "cell_type": "markdown",
      "metadata": {
        "id": "M_CqRlRNJTKn"
      },
      "source": [
        "# Imports"
      ]
    },
    {
      "cell_type": "code",
      "execution_count": null,
      "metadata": {
        "id": "xsPcf7iuJTKn"
      },
      "outputs": [],
      "source": [
        "import joblib\n",
        "import os\n",
        "from skimage import data, color\n",
        "from skimage.transform import resize\n",
        "import numpy as np\n",
        "import importlib"
      ]
    },
    {
      "cell_type": "code",
      "execution_count": null,
      "metadata": {
        "colab": {
          "base_uri": "https://localhost:8080/"
        },
        "id": "QZZaAET_BUU3",
        "outputId": "4556637c-3859-425b-e750-098ae27f79df"
      },
      "outputs": [],
      "source": [
        "#from google.colab import drive\n",
        "#drive.mount('/content/drive', force_remount=True)\n",
        "#import sys\n",
        "#sys.path.append('/content/drive/MyDrive/machine-learning/obligatorio/detector')"
      ]
    },
    {
      "cell_type": "code",
      "execution_count": null,
      "metadata": {},
      "outputs": [],
      "source": [
        "import utils\n",
        "importlib.reload(utils)\n",
        "from utils import (\n",
        "    grid_search,\n",
        "    plot_f1_heatmap,\n",
        "    plot_top_combinations_bar,\n",
        "    show_image\n",
        ")\n",
        "\n",
        "#BASE_PATH = '/content/drive/MyDrive/machine-learning/obligatorio/detector'\n",
        "BASE_PATH = ''\n",
        "\n",
        "BATCH_SIZE = 1024\n",
        "MAX_JOBS = 4\n",
        "\n",
        "MODEL_NAME = 'model_x2_v2_50'\n",
        "SCALER_NAME = 'scaler_x2_v2_50'\n",
        "PCA_NAME = 'pca_x2_v2_50'"
      ]
    },
    {
      "cell_type": "markdown",
      "metadata": {
        "id": "vhWPAI7fJTKo"
      },
      "source": [
        "# Clasificador"
      ]
    },
    {
      "cell_type": "code",
      "execution_count": null,
      "metadata": {
        "id": "fXjektZWJTKp"
      },
      "outputs": [],
      "source": [
        "# Cargar modelo entrenado\n",
        "clf = joblib.load(os.path.join(BASE_PATH, f'models/{MODEL_NAME}.joblib'))\n",
        "\n",
        "# Cargar standard scaler\n",
        "scaler = joblib.load(os.path.join(BASE_PATH, f'models/{SCALER_NAME}.joblib'))\n",
        "\n",
        "# Cargar pca\n",
        "pca = joblib.load(os.path.join(BASE_PATH, f'models/{PCA_NAME}.joblib'))"
      ]
    },
    {
      "cell_type": "markdown",
      "metadata": {
        "id": "dc_RFh_eJTKr"
      },
      "source": [
        "# Cargar astronauta"
      ]
    },
    {
      "cell_type": "code",
      "execution_count": null,
      "metadata": {
        "colab": {
          "base_uri": "https://localhost:8080/"
        },
        "id": "thZ07YCwjoRB",
        "outputId": "091acb70-4f92-45dd-fded-62c1425e0beb"
      },
      "outputs": [],
      "source": [
        "dataset = []\n",
        "astronaut = data.astronaut()\n",
        "astronaut = color.rgb2gray(astronaut)\n",
        "astronaut = resize(astronaut, (500, 500), anti_aliasing=True, preserve_range=True)\n",
        "astronaut = (astronaut * 255).astype(np.uint8)\n",
        "# (filename, image, true_faces)\n",
        "dataset.append(('astronaut', astronaut, 1))\n",
        "show_image(astronaut, cmap='gray', figsize=(4, 4))"
      ]
    },
    {
      "cell_type": "markdown",
      "metadata": {},
      "source": [
        "# Grid Search"
      ]
    },
    {
      "cell_type": "code",
      "execution_count": null,
      "metadata": {},
      "outputs": [],
      "source": [
        "# Hiperparámetros a evaluar\n",
        "thresholds = [0.7, 0.8, 0.9]\n",
        "steps = [2, 4]\n",
        "overlaps = [0.05, 0.2, 0.3]\n",
        "test_scales = np.arange(0.5, 5.0, 0.5)"
      ]
    },
    {
      "cell_type": "code",
      "execution_count": null,
      "metadata": {},
      "outputs": [],
      "source": [
        "df_grid, best_config = grid_search(\n",
        "    clf,\n",
        "    scaler,\n",
        "    pca,\n",
        "    dataset,\n",
        "    thresholds=thresholds,\n",
        "    steps=steps,\n",
        "    overlaps=overlaps,\n",
        "    test_scales=test_scales,\n",
        "    batch_size=BATCH_SIZE,\n",
        "    max_jobs=MAX_JOBS,\n",
        "    base_dir=BASE_PATH,\n",
        "    n_images_max=1,\n",
        "    early_stop_f1=0.4\n",
        ")\n",
        "plot_f1_heatmap(df_grid, fix_overlap=0.2)\n",
        "plot_top_combinations_bar(df_grid, top_n=5)"
      ]
    },
    {
      "cell_type": "code",
      "execution_count": null,
      "metadata": {},
      "outputs": [],
      "source": [
        "# save results\n",
        "save_dir = os.path.join(BASE_PATH, \"results\")\n",
        "df_grid.to_csv(f\"{save_dir}/grid_search.csv\", index=False)\n",
        "print(f\"Resultados guardados en {save_dir}/grid_search.csv\")"
      ]
    }
  ],
  "metadata": {
    "colab": {
      "machine_shape": "hm",
      "provenance": []
    },
    "kernelspec": {
      "display_name": "ml-stable",
      "language": "python",
      "name": "python3"
    },
    "language_info": {
      "codemirror_mode": {
        "name": "ipython",
        "version": 3
      },
      "file_extension": ".py",
      "mimetype": "text/x-python",
      "name": "python",
      "nbconvert_exporter": "python",
      "pygments_lexer": "ipython3",
      "version": "3.11.11"
    }
  },
  "nbformat": 4,
  "nbformat_minor": 0
}
